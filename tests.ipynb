{
 "cells": [
  {
   "cell_type": "code",
   "execution_count": 3,
   "metadata": {},
   "outputs": [],
   "source": [
    "### testing stuff with dual numbers here\n",
    "\n",
    "\n",
    "struct Dual <: Number\n",
    "    f::Real\n",
    "    g::Real\n",
    "end\n",
    "\n"
   ]
  },
  {
   "cell_type": "code",
   "execution_count": 172,
   "metadata": {},
   "outputs": [
    {
     "data": {
      "text/plain": [
       "promote_rule (generic function with 154 methods)"
      ]
     },
     "execution_count": 172,
     "metadata": {},
     "output_type": "execute_result"
    }
   ],
   "source": [
    "## overloading operators \n",
    "using Distributions\n",
    "\n",
    "import Base: +,/,*,-,^, convert, promote_rule\n",
    "+(x::Dual, y::Dual) = Dual(x.f + y.f, x.g + y.g)\n",
    "+(x::Dual, y::Real) = Dual(x.f + y, x.g)\n",
    "+(y::Real, x::Dual) = Dual(x.f + y, x.g)\n",
    "\n",
    "-(x::Dual, y::Dual) = Dual(x.f - y.f, x.g - y.g)\n",
    "-(x::Dual) = Dual(-x.f, -x.g)\n",
    "-(x::Dual, y::Real) = Dual(x.f -y, x.g)\n",
    "-(y::Real, x::Dual) = Dual(y-x.f, -x.g)\n",
    "\n",
    "*(x::Dual, y::Dual) = Dual(x.f*y.f, x.f*y.g + y.f*x.g)\n",
    "*(x::Dual, y::Real) = Dual(x.f*y, x.g*y)\n",
    "*(y::Real, x::Dual) = Dual(x.f*y, x.g*y)\n",
    "\n",
    "/(x::Dual, y::Dual) = Dual(x.f/y.f, (y.f*x.g - x.f*y.g)/y.f^2)\n",
    "/(y::Real, x::Dual) = Dual(y/x.f, (-y*x.g) / x.f^2)\n",
    "/(x::Dual, y::Real) = Dual(x.f/y, x.g/y)\n",
    "\n",
    "^(x::Dual, k::Real) = Dual(x.f^k, (x.g * k) * x.f ^ (k-1))\n",
    "\n",
    "\n",
    "\n",
    "Base.exp(x::Dual) = Dual(exp(x.f), x.g * exp(x.f))\n",
    "Base.sqrt(x::Dual) = Dual(sqrt(x.f), x.g / (2 * sqrt(x.f)))\n",
    "Base.log(x::Dual) = Dual(log(x.f), x.g/x.f)\n",
    "\n",
    "Distributions.cdf(d, x::Dual) = Dual(cdf(d, x.f), pdf(d, x.f) * x.g)\n",
    "\n",
    "## helper functions to convert from duals to reals\n",
    "convert(::Type{Dual}, x::Real) = Dual(x, one(x))\n",
    "#convert(::Type{D}, x::AbstractArray) = AbstractArray{D((x, ones(length(x)) ))}#Dual((x, zero(x)))\n",
    "promote_rule(::Type{Dual}, ::Type{<:Number}) = Dual\n"
   ]
  },
  {
   "cell_type": "code",
   "execution_count": 200,
   "metadata": {},
   "outputs": [
    {
     "data": {
      "text/plain": [
       "derivative (generic function with 1 method)"
      ]
     },
     "execution_count": 200,
     "metadata": {},
     "output_type": "execute_result"
    }
   ],
   "source": [
    "\n",
    "function derivative(f, x)\n",
    "    return f(Dual(x,1)).g\n",
    "end"
   ]
  },
  {
   "cell_type": "code",
   "execution_count": 165,
   "metadata": {},
   "outputs": [],
   "source": [
    "using BenchmarkTools\n"
   ]
  },
  {
   "cell_type": "code",
   "execution_count": 152,
   "metadata": {},
   "outputs": [
    {
     "data": {
      "text/plain": [
       "tt (generic function with 1 method)"
      ]
     },
     "execution_count": 152,
     "metadata": {},
     "output_type": "execute_result"
    }
   ],
   "source": []
  },
  {
   "cell_type": "code",
   "execution_count": 166,
   "metadata": {},
   "outputs": [
    {
     "data": {
      "text/plain": [
       "0"
      ]
     },
     "execution_count": 166,
     "metadata": {},
     "output_type": "execute_result"
    }
   ],
   "source": [
    "S = 178\n",
    "K = 97\n",
    "T = 0.47\n",
    "r = 0.0112\n",
    "q = 0"
   ]
  },
  {
   "cell_type": "code",
   "execution_count": 199,
   "metadata": {},
   "outputs": [
    {
     "name": "stdout",
     "output_type": "stream",
     "text": [
      "  415.070 ns (11 allocations: 304 bytes)\n"
     ]
    },
    {
     "data": {
      "text/plain": [
       "22.680964292858352"
      ]
     },
     "execution_count": 199,
     "metadata": {},
     "output_type": "execute_result"
    }
   ],
   "source": [
    "d = Normal()\n",
    "d1(S,K,T,r,v) = (log(S/K) + (r + v*v/2)*T)/(v*sqrt(T))\n",
    "d2(S,K,T,r,v) = (log(S/K) + (r + v*v/2)*T)/(v*sqrt(T)) - v*sqrt(T)\n",
    "call_price(S,K,T,r,v,q) = S*exp(-q*T)*cdf(d, d1(S,K,T,r,v)) - K*exp(-r*T)*cdf(d, d2(S,K,T,r,v))\n",
    "put_price(S,K,T,r,v,q) = K*exp(-r*T)*cdf(d, -d2(S,K,T,r,v)) - S*exp(-q*T)*cdf(d, -d1(S,K,T,r,v))\n",
    "\n",
    "price_v = v -> put_price(S,K,T,r,v,q)\n",
    "\n",
    "@btime ForwardDiff.derivative(price_v, 1)"
   ]
  },
  {
   "cell_type": "code",
   "execution_count": 198,
   "metadata": {},
   "outputs": [
    {
     "name": "stdout",
     "output_type": "stream",
     "text": [
      "  3.587 μs (136 allocations: 2.56 KiB)\n"
     ]
    },
    {
     "data": {
      "text/plain": [
       "22.680964292858352"
      ]
     },
     "execution_count": 198,
     "metadata": {},
     "output_type": "execute_result"
    }
   ],
   "source": [
    "@btime deriv(price_v, 1)"
   ]
  },
  {
   "cell_type": "code",
   "execution_count": 196,
   "metadata": {},
   "outputs": [
    {
     "name": "stdout",
     "output_type": "stream",
     "text": [
      "  365.000 μs (13915 allocations: 262.06 KiB)\n"
     ]
    },
    {
     "data": {
      "text/plain": [
       "100-element Array{Float64,1}:\n",
       " 22.680964292858352      \n",
       " 25.6474224710635        \n",
       " 20.208319776698787      \n",
       " 13.656762890886721      \n",
       "  8.121053290198851      \n",
       "  4.276287286570536      \n",
       "  1.9982560759614323     \n",
       "  0.8293879925851797     \n",
       "  0.3058963004203713     \n",
       "  0.10027654544442326    \n",
       "  0.029220604998773783   \n",
       "  0.0075696789252974     \n",
       "  0.0017433532703132106  \n",
       "  ⋮                      \n",
       "  2.829128666036503e-201 \n",
       "  7.664853123859659e-206 \n",
       "  1.846398155882849e-210 \n",
       "  3.9547338524225884e-215\n",
       "  7.531466506477353e-220 \n",
       "  1.2752995931823724e-224\n",
       "  1.9200621137236045e-229\n",
       "  2.5703290285507674e-234\n",
       "  3.0593738479541314e-239\n",
       "  3.237775746047776e-244 \n",
       "  3.0467117543827056e-249\n",
       "  2.5490969790679187e-254"
      ]
     },
     "execution_count": 196,
     "metadata": {},
     "output_type": "execute_result"
    }
   ],
   "source": [
    "@btime [deriv(price_v, i) for i in 1:100]"
   ]
  },
  {
   "cell_type": "code",
   "execution_count": null,
   "metadata": {},
   "outputs": [],
   "source": []
  },
  {
   "cell_type": "code",
   "execution_count": null,
   "metadata": {},
   "outputs": [],
   "source": []
  },
  {
   "cell_type": "code",
   "execution_count": null,
   "metadata": {},
   "outputs": [],
   "source": []
  }
 ],
 "metadata": {
  "kernelspec": {
   "display_name": "Julia 1.2.0",
   "language": "julia",
   "name": "julia-1.2"
  },
  "language_info": {
   "file_extension": ".jl",
   "mimetype": "application/julia",
   "name": "julia",
   "version": "1.2.0"
  }
 },
 "nbformat": 4,
 "nbformat_minor": 4
}
