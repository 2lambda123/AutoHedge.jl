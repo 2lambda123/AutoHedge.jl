{
 "cells": [
  {
   "cell_type": "code",
   "execution_count": 3,
   "metadata": {},
   "outputs": [],
   "source": [
    "### testing stuff with dual numbers here\n",
    "\n",
    "\n",
    "struct Dual <: Number\n",
    "    f::Real\n",
    "    g::Real\n",
    "end\n",
    "\n",
    "\n"
   ]
  },
  {
   "cell_type": "code",
   "execution_count": 84,
   "metadata": {},
   "outputs": [
    {
     "data": {
      "text/plain": [
       "promote_rule (generic function with 137 methods)"
      ]
     },
     "execution_count": 84,
     "metadata": {},
     "output_type": "execute_result"
    }
   ],
   "source": [
    "## overloading operators \n",
    "\n",
    "import Base: +,/,*,-,^, convert, promote_rule\n",
    "+(x::Dual, y::Dual) = Dual(x.f + y.f, x.g + y.g)\n",
    "+(x::Dual, y::Real) = Dual(x.f + y, x.g)\n",
    "+(y::Real, x::Dual) = Dual(x.f + y, x.g)\n",
    "\n",
    "-(x::Dual, y::Dual) = Dual(x.f - y.f, x.g - y.g)\n",
    "-(x::Dual) = Dual(-x.f, -x.g)\n",
    "-(x::Dual, y::Real) = Dual(x.f -y, x.g)\n",
    "-(y::Real, x::Dual) = Dual(y-x.f, x.g)\n",
    "\n",
    "*(x::Dual, y::Dual) = Dual(x.f*y.f, x.f*y.g + y.f*x.g)\n",
    "*(x::Dual, y::Real) = Dual(x.f*y, x.g*y)\n",
    "*(y::Real, x::Dual) = Dual(x.f*y, x.g*y)\n",
    "\n",
    "/(x::Dual, y::Dual) = Dual(x.f/y.f, (y.f*x.g - x.f*y.g)/y.f^2)\n",
    "/(y::Real, x::Dual) = Dual(y/x.f, (-y*x.g) / x.f^2)\n",
    "/(x::Dual, y::Real) = Dual(x.f/y, x.g/y)\n",
    "\n",
    "^(x::Dual, k::Real) = Dual(x.f^k, (x.g * k) * x.f ^ (k-1))\n",
    "\n",
    "\n",
    "\n",
    "Base.exp(x::Dual) = Dual(exp(x.f), x.g * exp(x.f))\n",
    "Base.sqrt(x::Dual) = Dual(sqrt(x.f), x.g / (2 * sqrt(x.f)))\n",
    "Base.log(x::Dual) = Dual(log(x.f), x.g/x.f)\n",
    "\n",
    "## helper functions to convert from duals to reals\n",
    "convert(::Type{Dual}, x::Real) = Dual(x, one(x))\n",
    "#convert(::Type{D}, x::AbstractArray) = AbstractArray{D((x, ones(length(x)) ))}#Dual((x, zero(x)))\n",
    "promote_rule(::Type{Dual}, ::Type{<:Number}) = Dual\n"
   ]
  },
  {
   "cell_type": "code",
   "execution_count": 100,
   "metadata": {},
   "outputs": [
    {
     "data": {
      "text/plain": [
       "Dual(0.1, 1)"
      ]
     },
     "execution_count": 100,
     "metadata": {},
     "output_type": "execute_result"
    }
   ],
   "source": [
    "t = Dual(0.1, 1)"
   ]
  },
  {
   "cell_type": "code",
   "execution_count": 118,
   "metadata": {},
   "outputs": [],
   "source": [
    "using Distributions\n",
    "\n",
    "Distributions.cdf(d, x::Dual) = Dual(cdf(d, x.f), pdf(d, x.f) * x.g)\n"
   ]
  },
  {
   "cell_type": "code",
   "execution_count": 115,
   "metadata": {},
   "outputs": [
    {
     "data": {
      "text/plain": [
       "tt (generic function with 1 method)"
      ]
     },
     "execution_count": 115,
     "metadata": {},
     "output_type": "execute_result"
    }
   ],
   "source": [
    "hm(x) = cdf(Normal(), x)\n",
    "using ForwardDiff\n",
    "\n",
    "tt(x) = ForwardDiff.derivative(hm, x)"
   ]
  },
  {
   "cell_type": "code",
   "execution_count": 122,
   "metadata": {},
   "outputs": [
    {
     "data": {
      "text/plain": [
       "Dual(0.6914624612740131, 1.7603266338214976)"
      ]
     },
     "execution_count": 122,
     "metadata": {},
     "output_type": "execute_result"
    }
   ],
   "source": [
    "cdf(Normal(), t*5)"
   ]
  },
  {
   "cell_type": "code",
   "execution_count": 123,
   "metadata": {},
   "outputs": [
    {
     "data": {
      "text/plain": [
       "0.35206532676429947"
      ]
     },
     "execution_count": 123,
     "metadata": {},
     "output_type": "execute_result"
    }
   ],
   "source": [
    "tt(0.5)"
   ]
  },
  {
   "cell_type": "code",
   "execution_count": 124,
   "metadata": {},
   "outputs": [
    {
     "data": {
      "text/plain": [
       "Dual(0.6914624612740131, 0.3520653267642995)"
      ]
     },
     "execution_count": 124,
     "metadata": {},
     "output_type": "execute_result"
    }
   ],
   "source": [
    "cdf(Normal(), Dual(0.5,1))"
   ]
  },
  {
   "cell_type": "code",
   "execution_count": null,
   "metadata": {},
   "outputs": [],
   "source": []
  }
 ],
 "metadata": {
  "kernelspec": {
   "display_name": "Julia 1.2.0",
   "language": "julia",
   "name": "julia-1.2"
  },
  "language_info": {
   "file_extension": ".jl",
   "mimetype": "application/julia",
   "name": "julia",
   "version": "1.2.0"
  }
 },
 "nbformat": 4,
 "nbformat_minor": 4
}
